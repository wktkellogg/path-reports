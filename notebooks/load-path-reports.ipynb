{
 "cells": [
  {
   "cell_type": "code",
   "execution_count": 55,
   "id": "d5b308e0",
   "metadata": {},
   "outputs": [],
   "source": [
    "import os\n",
    "import sys\n",
    "import dspy\n",
    "import rich\n",
    "import polars as pl\n",
    "from pathlib import Path\n",
    "from typing import List\n",
    "import pickle"
   ]
  },
  {
   "cell_type": "markdown",
   "id": "84cee8e8",
   "metadata": {},
   "source": [
    "## Load the TCGA Cancer Types"
   ]
  },
  {
   "cell_type": "code",
   "execution_count": 42,
   "id": "509cb049",
   "metadata": {},
   "outputs": [
    {
     "data": {
      "text/html": [
       "<div><style>\n",
       ".dataframe > thead > tr,\n",
       ".dataframe > tbody > tr {\n",
       "  text-align: right;\n",
       "  white-space: pre-wrap;\n",
       "}\n",
       "</style>\n",
       "<small>shape: (37, 2)</small><table border=\"1\" class=\"dataframe\"><thead><tr><th>abbrev</th><th>cancer_type_full</th></tr><tr><td>str</td><td>str</td></tr></thead><tbody><tr><td>&quot;LAML&quot;</td><td>&quot;Acute Myeloid Leukemia&quot;</td></tr><tr><td>&quot;ACC&quot;</td><td>&quot;Adrenocortical carcinoma&quot;</td></tr><tr><td>&quot;BLCA&quot;</td><td>&quot;Bladder Urothelial Carcinoma&quot;</td></tr><tr><td>&quot;LGG&quot;</td><td>&quot;Brain Lower Grade Glioma&quot;</td></tr><tr><td>&quot;BRCA&quot;</td><td>&quot;Breast invasive carcinoma&quot;</td></tr><tr><td>&hellip;</td><td>&hellip;</td></tr><tr><td>&quot;THYM&quot;</td><td>&quot;Thymoma&quot;</td></tr><tr><td>&quot;THCA&quot;</td><td>&quot;Thyroid carcinoma&quot;</td></tr><tr><td>&quot;UCS&quot;</td><td>&quot;Uterine Carcinosarcoma&quot;</td></tr><tr><td>&quot;UCEC&quot;</td><td>&quot;Uterine Corpus Endometrial Car…</td></tr><tr><td>&quot;UVM&quot;</td><td>&quot;Uveal Melanoma&quot;</td></tr></tbody></table></div>"
      ],
      "text/plain": [
       "shape: (37, 2)\n",
       "┌────────┬─────────────────────────────────┐\n",
       "│ abbrev ┆ cancer_type_full                │\n",
       "│ ---    ┆ ---                             │\n",
       "│ str    ┆ str                             │\n",
       "╞════════╪═════════════════════════════════╡\n",
       "│ LAML   ┆ Acute Myeloid Leukemia          │\n",
       "│ ACC    ┆ Adrenocortical carcinoma        │\n",
       "│ BLCA   ┆ Bladder Urothelial Carcinoma    │\n",
       "│ LGG    ┆ Brain Lower Grade Glioma        │\n",
       "│ BRCA   ┆ Breast invasive carcinoma       │\n",
       "│ …      ┆ …                               │\n",
       "│ THYM   ┆ Thymoma                         │\n",
       "│ THCA   ┆ Thyroid carcinoma               │\n",
       "│ UCS    ┆ Uterine Carcinosarcoma          │\n",
       "│ UCEC   ┆ Uterine Corpus Endometrial Car… │\n",
       "│ UVM    ┆ Uveal Melanoma                  │\n",
       "└────────┴─────────────────────────────────┘"
      ]
     },
     "execution_count": 42,
     "metadata": {},
     "output_type": "execute_result"
    }
   ],
   "source": [
    "df_cancer_types = pl.read_csv(\"tcga_abbreviations.csv\")\n",
    "df_cancer_types"
   ]
  },
  {
   "cell_type": "markdown",
   "id": "b4faa3d0",
   "metadata": {},
   "source": [
    "## Load the Full Pathology Report Dataset"
   ]
  },
  {
   "cell_type": "code",
   "execution_count": 43,
   "id": "467c3742",
   "metadata": {},
   "outputs": [
    {
     "data": {
      "text/html": [
       "<div><style>\n",
       ".dataframe > thead > tr,\n",
       ".dataframe > tbody > tr {\n",
       "  text-align: right;\n",
       "  white-space: pre-wrap;\n",
       "}\n",
       "</style>\n",
       "<small>shape: (10, 2)</small><table border=\"1\" class=\"dataframe\"><thead><tr><th>patient_filename</th><th>text</th></tr><tr><td>str</td><td>str</td></tr></thead><tbody><tr><td>&quot;TCGA-BP-5195.25c0b433-5557-416…</td><td>&quot;Date of Recelpt: Clinical Diag…</td></tr><tr><td>&quot;TCGA-D7-8573.b7306a47-697d-4ed…</td><td>&quot;Material: 1) Material: stomach…</td></tr><tr><td>&quot;TCGA-EI-7004.13591eed-30e5-47a…</td><td>&quot;page 1 / 1. copy No. 3. Examin…</td></tr><tr><td>&quot;TCGA-EB-A82B.23E186C6-739C-4EF…</td><td>&quot;Patient ID: Gross Description:…</td></tr><tr><td>&quot;TCGA-A6-3808.e1505f65-72ef-438…</td><td>&quot;SPECIMEN. Right colon. CLINICA…</td></tr><tr><td>&quot;TCGA-29-1761.63defa27-e729-451…</td><td>&quot;CLINICAL HISTORY: Pelvic organ…</td></tr><tr><td>&quot;TCGA-24-1616.d8c764d9-0fe8-488…</td><td>&quot;Address: : Physician (s) : Oth…</td></tr><tr><td>&quot;TCGA-IN-A6RO.C0E5F045-3F12-45C…</td><td>&quot;FINAL DIAGNOSIS: PART 1: ESOPH…</td></tr><tr><td>&quot;TCGA-44-8119.c40ea4c8-8cbe-4a4…</td><td>&quot;Final Surgical Pathology Repor…</td></tr><tr><td>&quot;TCGA-KK-A6E8.3716A52E-E0B7-4FE…</td><td>&quot;MODIFIED REPORT - REVIEW ADDEN…</td></tr></tbody></table></div>"
      ],
      "text/plain": [
       "shape: (10, 2)\n",
       "┌─────────────────────────────────┬─────────────────────────────────┐\n",
       "│ patient_filename                ┆ text                            │\n",
       "│ ---                             ┆ ---                             │\n",
       "│ str                             ┆ str                             │\n",
       "╞═════════════════════════════════╪═════════════════════════════════╡\n",
       "│ TCGA-BP-5195.25c0b433-5557-416… ┆ Date of Recelpt: Clinical Diag… │\n",
       "│ TCGA-D7-8573.b7306a47-697d-4ed… ┆ Material: 1) Material: stomach… │\n",
       "│ TCGA-EI-7004.13591eed-30e5-47a… ┆ page 1 / 1. copy No. 3. Examin… │\n",
       "│ TCGA-EB-A82B.23E186C6-739C-4EF… ┆ Patient ID: Gross Description:… │\n",
       "│ TCGA-A6-3808.e1505f65-72ef-438… ┆ SPECIMEN. Right colon. CLINICA… │\n",
       "│ TCGA-29-1761.63defa27-e729-451… ┆ CLINICAL HISTORY: Pelvic organ… │\n",
       "│ TCGA-24-1616.d8c764d9-0fe8-488… ┆ Address: : Physician (s) : Oth… │\n",
       "│ TCGA-IN-A6RO.C0E5F045-3F12-45C… ┆ FINAL DIAGNOSIS: PART 1: ESOPH… │\n",
       "│ TCGA-44-8119.c40ea4c8-8cbe-4a4… ┆ Final Surgical Pathology Repor… │\n",
       "│ TCGA-KK-A6E8.3716A52E-E0B7-4FE… ┆ MODIFIED REPORT - REVIEW ADDEN… │\n",
       "└─────────────────────────────────┴─────────────────────────────────┘"
      ]
     },
     "execution_count": 43,
     "metadata": {},
     "output_type": "execute_result"
    }
   ],
   "source": [
    "df_path_reports = pl.read_csv(\"../../data/tcga/TCGA_reports.csv\")\n",
    "assert len(df_path_reports) == 9523\n",
    "df_path_reports.head(10)"
   ]
  },
  {
   "cell_type": "code",
   "execution_count": 44,
   "id": "82dbe81b",
   "metadata": {},
   "outputs": [
    {
     "data": {
      "text/html": [
       "<pre style=\"white-space:pre;overflow-x:auto;line-height:normal;font-family:Menlo,'DejaVu Sans Mono',consolas,'Courier New',monospace\">Date of Recelpt: Clinical Diagnosis &amp; History: Incidental <span style=\"color: #008080; text-decoration-color: #008080; font-weight: bold\">3</span> cm left upper pole renal mass. Specimens Submitted: <span style=\"color: #008080; text-decoration-color: #008080; font-weight: bold\">1</span>: \n",
       "Kidney, Left Upper Pole; Partial Nephrectomy. DIAGNOSIS: <span style=\"color: #008080; text-decoration-color: #008080; font-weight: bold\">1</span>. Kidney, Left Upper Pole; Partial Nephrectomy: Tumor \n",
       "Type: Renal cell carcinoma - Conventional <span style=\"font-weight: bold\">(</span>clear cell<span style=\"font-weight: bold\">)</span> type. Fuhrman Nuclear Grade: Nuclear grade II/IV. Tumor \n",
       "Size: Greatest diameter is <span style=\"color: #008080; text-decoration-color: #008080; font-weight: bold\">2.4</span> cm. Local Invasion <span style=\"font-weight: bold\">(</span>for renal cortical types<span style=\"font-weight: bold\">)</span>: Not Identified. Renal Vein Invasion: \n",
       "Not identified. Surgical Margins: Free of tumor. Non-Neoplastic Kidney: shows focal chronic inflammation and focal \n",
       "superficial glomerulosclerosis. Adrenal Gland: Not identified. Lymph Nodes: Not identified. Staging for renal cell \n",
       "carcinoma/oncocytoma: pT1 Tumor &lt;= <span style=\"color: #008080; text-decoration-color: #008080; font-weight: bold\">7.0</span> cm in greatest dimension limited to the kidney. JATTEST THAT THE ABOVE \n",
       "DIAGNOSIS IS BASED UPON MY PERSONAL EXAMINATION OF THE SLIDES <span style=\"font-weight: bold\">(</span>AND/OR OTHER MATERIAL<span style=\"font-weight: bold\">)</span>, AND THAT IHAVE. REVIEWED AND\n",
       "APPROVED THIS REPORT. Gross Description: <span style=\"color: #008080; text-decoration-color: #008080; font-weight: bold\">1</span><span style=\"font-weight: bold\">)</span>. The specimen Is received fresh for frozen section consultation, \n",
       "labeled <span style=\"color: #008000; text-decoration-color: #008000\">\"left upper pole renal tumor stitch marks deep margin\"</span>. It consists of a <span style=\"color: #008080; text-decoration-color: #008080; font-weight: bold\">6.6</span> X <span style=\"color: #008080; text-decoration-color: #008080; font-weight: bold\">3.7</span> x <span style=\"color: #008080; text-decoration-color: #008080; font-weight: bold\">2.9</span> cm wedge shaped \n",
       "portion of kidney with a suture marking the deep margin and attached <span style=\"color: #008080; text-decoration-color: #008080; font-weight: bold\">12.2</span> x <span style=\"color: #008080; text-decoration-color: #008080; font-weight: bold\">8</span>,<span style=\"color: #008080; text-decoration-color: #008080; font-weight: bold\">5</span> x. <span style=\"color: #008080; text-decoration-color: #008080; font-weight: bold\">2.7</span> cm of perirenal. Also \n",
       "received in the same container Is a separate <span style=\"color: #008080; text-decoration-color: #008080; font-weight: bold\">11.6</span> x <span style=\"color: #008080; text-decoration-color: #008080; font-weight: bold\">8.4</span> x <span style=\"color: #008080; text-decoration-color: #008080; font-weight: bold\">4.6</span> cm aggregate of unremarkable. fibroadipose tissue. \n",
       "The margin is inked black and the specimen is serially sectioned to reveal a well-circumscribed cortically. based \n",
       "yellow focally hemorrhagic <span style=\"color: #008080; text-decoration-color: #008080; font-weight: bold\">2.4</span> x <span style=\"color: #008080; text-decoration-color: #008080; font-weight: bold\">2.0</span> x <span style=\"color: #008080; text-decoration-color: #008080; font-weight: bold\">1.9</span> cm tumor. The tumor appears grossly confined to the renal parenchyma, \n",
       "no. extension into perirenal fat is identified. The clearance from the resection margin is <span style=\"color: #008080; text-decoration-color: #008080; font-weight: bold\">1.1</span> cm. A representative\n",
       "section of the. nearest margin is submilted for frozen section diagnosis. Representatively submitted. A photograph \n",
       "Is taken. Portions of the. tumor are submitted for TPS. Summary of sections: FSC - frozen section control. T tumor.\n",
       "M margin. RS - representative sections. Summary of Sections: Part <span style=\"color: #008080; text-decoration-color: #008080; font-weight: bold\">1</span>: Kidney, Left Upper Pole; Partial Nephrectomy. \n",
       "Block. Sect. Site. PCs. <span style=\"color: #008080; text-decoration-color: #008080; font-weight: bold\">1</span>. fsc. <span style=\"color: #008080; text-decoration-color: #008080; font-weight: bold\">1</span>. <span style=\"color: #008080; text-decoration-color: #008080; font-weight: bold\">2</span>. m. <span style=\"color: #008080; text-decoration-color: #008080; font-weight: bold\">2</span>. <span style=\"color: #008080; text-decoration-color: #008080; font-weight: bold\">1</span>. rs. <span style=\"color: #008080; text-decoration-color: #008080; font-weight: bold\">1</span>. <span style=\"color: #008080; text-decoration-color: #008080; font-weight: bold\">2</span>. t. <span style=\"color: #008080; text-decoration-color: #008080; font-weight: bold\">2</span>. Intraoperative Consultation: Note: The diagnoses \n",
       "given in this section pertain only to the. tissue sample examined at the time of the intraoperative. consultation. \n",
       "<span style=\"color: #008080; text-decoration-color: #008080; font-weight: bold\">1</span><span style=\"font-weight: bold\">)</span>. FROZEN SECTION DIAGNOSIS: LEFT UPPER POLE RENAL TUMOR. RENAL CORTICAL NEOPLASM. WITH BENIGN MARGIN. PERMANENT \n",
       "DIAGNOSIS: SAME.\n",
       "</pre>\n"
      ],
      "text/plain": [
       "Date of Recelpt: Clinical Diagnosis & History: Incidental \u001b[1;36m3\u001b[0m cm left upper pole renal mass. Specimens Submitted: \u001b[1;36m1\u001b[0m: \n",
       "Kidney, Left Upper Pole; Partial Nephrectomy. DIAGNOSIS: \u001b[1;36m1\u001b[0m. Kidney, Left Upper Pole; Partial Nephrectomy: Tumor \n",
       "Type: Renal cell carcinoma - Conventional \u001b[1m(\u001b[0mclear cell\u001b[1m)\u001b[0m type. Fuhrman Nuclear Grade: Nuclear grade II/IV. Tumor \n",
       "Size: Greatest diameter is \u001b[1;36m2.4\u001b[0m cm. Local Invasion \u001b[1m(\u001b[0mfor renal cortical types\u001b[1m)\u001b[0m: Not Identified. Renal Vein Invasion: \n",
       "Not identified. Surgical Margins: Free of tumor. Non-Neoplastic Kidney: shows focal chronic inflammation and focal \n",
       "superficial glomerulosclerosis. Adrenal Gland: Not identified. Lymph Nodes: Not identified. Staging for renal cell \n",
       "carcinoma/oncocytoma: pT1 Tumor <= \u001b[1;36m7.0\u001b[0m cm in greatest dimension limited to the kidney. JATTEST THAT THE ABOVE \n",
       "DIAGNOSIS IS BASED UPON MY PERSONAL EXAMINATION OF THE SLIDES \u001b[1m(\u001b[0mAND/OR OTHER MATERIAL\u001b[1m)\u001b[0m, AND THAT IHAVE. REVIEWED AND\n",
       "APPROVED THIS REPORT. Gross Description: \u001b[1;36m1\u001b[0m\u001b[1m)\u001b[0m. The specimen Is received fresh for frozen section consultation, \n",
       "labeled \u001b[32m\"left upper pole renal tumor stitch marks deep margin\"\u001b[0m. It consists of a \u001b[1;36m6.6\u001b[0m X \u001b[1;36m3.7\u001b[0m x \u001b[1;36m2.9\u001b[0m cm wedge shaped \n",
       "portion of kidney with a suture marking the deep margin and attached \u001b[1;36m12.2\u001b[0m x \u001b[1;36m8\u001b[0m,\u001b[1;36m5\u001b[0m x. \u001b[1;36m2.7\u001b[0m cm of perirenal. Also \n",
       "received in the same container Is a separate \u001b[1;36m11.6\u001b[0m x \u001b[1;36m8.4\u001b[0m x \u001b[1;36m4.6\u001b[0m cm aggregate of unremarkable. fibroadipose tissue. \n",
       "The margin is inked black and the specimen is serially sectioned to reveal a well-circumscribed cortically. based \n",
       "yellow focally hemorrhagic \u001b[1;36m2.4\u001b[0m x \u001b[1;36m2.0\u001b[0m x \u001b[1;36m1.9\u001b[0m cm tumor. The tumor appears grossly confined to the renal parenchyma, \n",
       "no. extension into perirenal fat is identified. The clearance from the resection margin is \u001b[1;36m1.1\u001b[0m cm. A representative\n",
       "section of the. nearest margin is submilted for frozen section diagnosis. Representatively submitted. A photograph \n",
       "Is taken. Portions of the. tumor are submitted for TPS. Summary of sections: FSC - frozen section control. T tumor.\n",
       "M margin. RS - representative sections. Summary of Sections: Part \u001b[1;36m1\u001b[0m: Kidney, Left Upper Pole; Partial Nephrectomy. \n",
       "Block. Sect. Site. PCs. \u001b[1;36m1\u001b[0m. fsc. \u001b[1;36m1\u001b[0m. \u001b[1;36m2\u001b[0m. m. \u001b[1;36m2\u001b[0m. \u001b[1;36m1\u001b[0m. rs. \u001b[1;36m1\u001b[0m. \u001b[1;36m2\u001b[0m. t. \u001b[1;36m2\u001b[0m. Intraoperative Consultation: Note: The diagnoses \n",
       "given in this section pertain only to the. tissue sample examined at the time of the intraoperative. consultation. \n",
       "\u001b[1;36m1\u001b[0m\u001b[1m)\u001b[0m. FROZEN SECTION DIAGNOSIS: LEFT UPPER POLE RENAL TUMOR. RENAL CORTICAL NEOPLASM. WITH BENIGN MARGIN. PERMANENT \n",
       "DIAGNOSIS: SAME.\n"
      ]
     },
     "metadata": {},
     "output_type": "display_data"
    }
   ],
   "source": [
    "# print sample text report\n",
    "rich.print(df_path_reports.select(\"text\").to_series().to_list()[0])"
   ]
  },
  {
   "cell_type": "markdown",
   "id": "990e2065",
   "metadata": {},
   "source": [
    "## Load the Patient - Cancer Type Dataset"
   ]
  },
  {
   "cell_type": "code",
   "execution_count": 45,
   "id": "59496ba7",
   "metadata": {},
   "outputs": [
    {
     "name": "stdout",
     "output_type": "stream",
     "text": [
      "(11160, 2)\n"
     ]
    },
    {
     "data": {
      "text/html": [
       "<div><style>\n",
       ".dataframe > thead > tr,\n",
       ".dataframe > tbody > tr {\n",
       "  text-align: right;\n",
       "  white-space: pre-wrap;\n",
       "}\n",
       "</style>\n",
       "<small>shape: (10, 2)</small><table border=\"1\" class=\"dataframe\"><thead><tr><th>patient_id</th><th>cancer_type</th></tr><tr><td>str</td><td>str</td></tr></thead><tbody><tr><td>&quot;TCGA-OR-A5J1&quot;</td><td>&quot;ACC&quot;</td></tr><tr><td>&quot;TCGA-OR-A5J2&quot;</td><td>&quot;ACC&quot;</td></tr><tr><td>&quot;TCGA-OR-A5J3&quot;</td><td>&quot;ACC&quot;</td></tr><tr><td>&quot;TCGA-OR-A5J4&quot;</td><td>&quot;ACC&quot;</td></tr><tr><td>&quot;TCGA-OR-A5J5&quot;</td><td>&quot;ACC&quot;</td></tr><tr><td>&quot;TCGA-OR-A5J6&quot;</td><td>&quot;ACC&quot;</td></tr><tr><td>&quot;TCGA-OR-A5J7&quot;</td><td>&quot;ACC&quot;</td></tr><tr><td>&quot;TCGA-OR-A5J8&quot;</td><td>&quot;ACC&quot;</td></tr><tr><td>&quot;TCGA-OR-A5J9&quot;</td><td>&quot;ACC&quot;</td></tr><tr><td>&quot;TCGA-OR-A5JA&quot;</td><td>&quot;ACC&quot;</td></tr></tbody></table></div>"
      ],
      "text/plain": [
       "shape: (10, 2)\n",
       "┌──────────────┬─────────────┐\n",
       "│ patient_id   ┆ cancer_type │\n",
       "│ ---          ┆ ---         │\n",
       "│ str          ┆ str         │\n",
       "╞══════════════╪═════════════╡\n",
       "│ TCGA-OR-A5J1 ┆ ACC         │\n",
       "│ TCGA-OR-A5J2 ┆ ACC         │\n",
       "│ TCGA-OR-A5J3 ┆ ACC         │\n",
       "│ TCGA-OR-A5J4 ┆ ACC         │\n",
       "│ TCGA-OR-A5J5 ┆ ACC         │\n",
       "│ TCGA-OR-A5J6 ┆ ACC         │\n",
       "│ TCGA-OR-A5J7 ┆ ACC         │\n",
       "│ TCGA-OR-A5J8 ┆ ACC         │\n",
       "│ TCGA-OR-A5J9 ┆ ACC         │\n",
       "│ TCGA-OR-A5JA ┆ ACC         │\n",
       "└──────────────┴─────────────┘"
      ]
     },
     "execution_count": 45,
     "metadata": {},
     "output_type": "execute_result"
    }
   ],
   "source": [
    "df_patient_type = pl.read_csv(\n",
    "    \"../../tcga-path-reports/data/tcga_metadata/tcga_patient_to_cancer_type.csv\"\n",
    ")\n",
    "print(df_patient_type.shape)\n",
    "df_patient_type.head(10)"
   ]
  },
  {
   "cell_type": "markdown",
   "id": "2cceffb3",
   "metadata": {},
   "source": [
    "## Final Dataframe: patient_id, path_text, and cancer_type"
   ]
  },
  {
   "cell_type": "code",
   "execution_count": 46,
   "id": "a68edf3d",
   "metadata": {},
   "outputs": [
    {
     "name": "stdout",
     "output_type": "stream",
     "text": [
      "(9523, 2)\n"
     ]
    },
    {
     "data": {
      "text/html": [
       "<div><style>\n",
       ".dataframe > thead > tr,\n",
       ".dataframe > tbody > tr {\n",
       "  text-align: right;\n",
       "  white-space: pre-wrap;\n",
       "}\n",
       "</style>\n",
       "<small>shape: (5, 2)</small><table border=\"1\" class=\"dataframe\"><thead><tr><th>text</th><th>patient_id</th></tr><tr><td>str</td><td>str</td></tr></thead><tbody><tr><td>&quot;Date of Recelpt: Clinical Diag…</td><td>&quot;TCGA-BP-5195&quot;</td></tr><tr><td>&quot;Material: 1) Material: stomach…</td><td>&quot;TCGA-D7-8573&quot;</td></tr><tr><td>&quot;page 1 / 1. copy No. 3. Examin…</td><td>&quot;TCGA-EI-7004&quot;</td></tr><tr><td>&quot;Patient ID: Gross Description:…</td><td>&quot;TCGA-EB-A82B&quot;</td></tr><tr><td>&quot;SPECIMEN. Right colon. CLINICA…</td><td>&quot;TCGA-A6-3808&quot;</td></tr></tbody></table></div>"
      ],
      "text/plain": [
       "shape: (5, 2)\n",
       "┌─────────────────────────────────┬──────────────┐\n",
       "│ text                            ┆ patient_id   │\n",
       "│ ---                             ┆ ---          │\n",
       "│ str                             ┆ str          │\n",
       "╞═════════════════════════════════╪══════════════╡\n",
       "│ Date of Recelpt: Clinical Diag… ┆ TCGA-BP-5195 │\n",
       "│ Material: 1) Material: stomach… ┆ TCGA-D7-8573 │\n",
       "│ page 1 / 1. copy No. 3. Examin… ┆ TCGA-EI-7004 │\n",
       "│ Patient ID: Gross Description:… ┆ TCGA-EB-A82B │\n",
       "│ SPECIMEN. Right colon. CLINICA… ┆ TCGA-A6-3808 │\n",
       "└─────────────────────────────────┴──────────────┘"
      ]
     },
     "execution_count": 46,
     "metadata": {},
     "output_type": "execute_result"
    }
   ],
   "source": [
    "df_split = df_path_reports.with_columns(\n",
    "    pl.col(\"patient_filename\")\n",
    "    .str.split_exact(\".\", 1)\n",
    "    .struct.rename_fields([\"patient_id\", \"filename\"])\n",
    "    .alias(\"fields\")\n",
    ").unnest(\"fields\")\n",
    "df_split = df_split.drop([\"patient_filename\", \"filename\"])\n",
    "print(df_split.shape)\n",
    "df_split.head()"
   ]
  },
  {
   "cell_type": "code",
   "execution_count": 48,
   "id": "36479d60",
   "metadata": {},
   "outputs": [
    {
     "name": "stdout",
     "output_type": "stream",
     "text": [
      "(9523, 3)\n",
      "(9523, 4)\n"
     ]
    },
    {
     "data": {
      "text/html": [
       "<div><style>\n",
       ".dataframe > thead > tr,\n",
       ".dataframe > tbody > tr {\n",
       "  text-align: right;\n",
       "  white-space: pre-wrap;\n",
       "}\n",
       "</style>\n",
       "<small>shape: (5, 4)</small><table border=\"1\" class=\"dataframe\"><thead><tr><th>text</th><th>patient_id</th><th>cancer_type</th><th>cancer_type_full</th></tr><tr><td>str</td><td>str</td><td>str</td><td>str</td></tr></thead><tbody><tr><td>&quot;Deliver To: NOS P. Cuncertain …</td><td>&quot;TCGA-OR-A5J1&quot;</td><td>&quot;ACC&quot;</td><td>&quot;Adrenocortical carcinoma&quot;</td></tr><tr><td>&quot;Date of Birth: Sex: Female. Ma…</td><td>&quot;TCGA-OR-A5J2&quot;</td><td>&quot;ACC&quot;</td><td>&quot;Adrenocortical carcinoma&quot;</td></tr><tr><td>&quot;Sex: Female. Macroscopy. One v…</td><td>&quot;TCGA-OR-A5J3&quot;</td><td>&quot;ACC&quot;</td><td>&quot;Adrenocortical carcinoma&quot;</td></tr><tr><td>&quot;Sex: Female. Macroscopy. One v…</td><td>&quot;TCGA-OR-A5J4&quot;</td><td>&quot;ACC&quot;</td><td>&quot;Adrenocortical carcinoma&quot;</td></tr><tr><td>&quot;Sex: Male. Macroscopy. One ves…</td><td>&quot;TCGA-OR-A5J5&quot;</td><td>&quot;ACC&quot;</td><td>&quot;Adrenocortical carcinoma&quot;</td></tr></tbody></table></div>"
      ],
      "text/plain": [
       "shape: (5, 4)\n",
       "┌─────────────────────────────────┬──────────────┬─────────────┬──────────────────────────┐\n",
       "│ text                            ┆ patient_id   ┆ cancer_type ┆ cancer_type_full         │\n",
       "│ ---                             ┆ ---          ┆ ---         ┆ ---                      │\n",
       "│ str                             ┆ str          ┆ str         ┆ str                      │\n",
       "╞═════════════════════════════════╪══════════════╪═════════════╪══════════════════════════╡\n",
       "│ Deliver To: NOS P. Cuncertain … ┆ TCGA-OR-A5J1 ┆ ACC         ┆ Adrenocortical carcinoma │\n",
       "│ Date of Birth: Sex: Female. Ma… ┆ TCGA-OR-A5J2 ┆ ACC         ┆ Adrenocortical carcinoma │\n",
       "│ Sex: Female. Macroscopy. One v… ┆ TCGA-OR-A5J3 ┆ ACC         ┆ Adrenocortical carcinoma │\n",
       "│ Sex: Female. Macroscopy. One v… ┆ TCGA-OR-A5J4 ┆ ACC         ┆ Adrenocortical carcinoma │\n",
       "│ Sex: Male. Macroscopy. One ves… ┆ TCGA-OR-A5J5 ┆ ACC         ┆ Adrenocortical carcinoma │\n",
       "└─────────────────────────────────┴──────────────┴─────────────┴──────────────────────────┘"
      ]
     },
     "execution_count": 48,
     "metadata": {},
     "output_type": "execute_result"
    }
   ],
   "source": [
    "df_joined = df_split.join(df_patient_type, on=\"patient_id\", how=\"inner\")\n",
    "print(df_joined.shape)\n",
    "\n",
    "df_joined = df_joined.join(\n",
    "    df_cancer_types, left_on=\"cancer_type\", right_on=\"abbrev\", how=\"inner\"\n",
    ")\n",
    "print(df_joined.shape)\n",
    "df_joined.head()"
   ]
  },
  {
   "cell_type": "code",
   "execution_count": 49,
   "id": "a4889eda",
   "metadata": {},
   "outputs": [
    {
     "data": {
      "text/plain": [
       "{'text': 'Deliver To: NOS P. Cuncertain inknown behavior 8370/1 A. SPECIMEN TYPE: Adrenal. Blopsy No: T. CLINICAL NOTES: H. Histopathology of L) adrenal gland. Conn\\'s syndrome (note small section of. O. tumour excised for genetic studies). L. MACROSCOPIC: o. \"Left adrenal. The specimen consists of an adrenal gland with a post fixation. weight 102.4g. It measures 110 x 70 x 60mm. A section of tissue has been. G. taken from one pole. On sectioning, a nodular lesion with a maximum diameter. Y. of 25 x 30mm, and extending for a length of 70mm, can be identified. The cut. surface of this lesion is irregular. it can be seen to be compressing the. adjacent normal adrenal tissue. Block 1: tissue near the excision where previous sampling for genetic studies. has already been performed. Blocks 2 and 3: lesion where it abuts the normal adrenal gland. Block 4: lesion with its closest proximity to the excision margin. Blocks 5-9: further blocks of lesion. MICROSCOPIC: Sections show an adrenal tumour with a predominantly trabecular architectural. A. pattern and demonstrating a mitotic rate of <6 per 50HPF. Cytological atypia is. N. present. No absolutely definite vascular invasion is seen. The tumour appears. close but clear of the painted excision margin. A. The morphological appearances of this adrenal tumour in association with the. T. results of immunoperoxidase stains (ie. positive for vimentin and negative for. Cam 5.2 and chromogranin) are consistent with a cortical adrenal tumour, which. o. is considered best regarded as an \"adrenal cortical neoplasm of indeterminate. M. malignant potential\", and continuing long-term clinical follow-up Is strongly. recommended. I. SUMMARY: Considered best regarded as an \"adrenal cortical tumour of. C. indeterminate malignant potential\". A. Note: Please see attached references from Tumours of the Adrenal Gland and. L. Extra-Adrenal Paraganglioma by Ernest E.Lack: No 19 - 3rd series; from the. Armed Forces institute of Pathology, Washington D.C. P. T-93000 M-09350. A. ADDITIONAL REPORT: T. ELECTRON MICROSCOPY: (received from. H. O. L. Page 1 of. O. Requesting Doctor\\'s Information: Deliver To: A. SPECIMEN TYPE: Adrenal. Biopsy No: T. H. \"The majority of cells examined by electron microscopy show the features of. aldosterone-secreting tumours. In particular, mitochondria elongated with. o. numerous lamellar cristae (\"sarcotubular\" mitochondria), similar to those of. L. the normal zona glomerulosa. However, spherical \"hybrid\" mitochondria with. lamellar or tubular cristae are also seen. Rough and smooth surfaced. o. endoplasmic reticulum are present in moderate amounts. Lipid droplets are. G. sparse. A few pleomorphic nuclei were seen, but the majority appear spherical. with a regular chromatin pattern and a small nucleolus. Y. Most authorities agree that it is not possible to predict the likely behaviour. of adrenal cortical tumours from their ultrastructural appearances. Reliance. should be placed on the usual histological and macroscopic criteria.\". REPORTING PATHOLOGIST: A. (Electronic Signature). N. A. T. o. M. I. C. A. L. P. A. T. H. O. L. O.',\n",
       " 'patient_id': 'TCGA-OR-A5J1',\n",
       " 'cancer_type': 'ACC',\n",
       " 'cancer_type_full': 'Adrenocortical carcinoma'}"
      ]
     },
     "execution_count": 49,
     "metadata": {},
     "output_type": "execute_result"
    }
   ],
   "source": [
    "df_dict = df_joined.to_dicts()\n",
    "df_dict[0]"
   ]
  },
  {
   "cell_type": "markdown",
   "id": "c1fba20e",
   "metadata": {},
   "source": [
    "## Create a List of DSPy Examples"
   ]
  },
  {
   "cell_type": "code",
   "execution_count": 50,
   "id": "b2f38c1d",
   "metadata": {},
   "outputs": [],
   "source": [
    "def prepare_dataset(dataset) -> List[dspy.Example]:\n",
    "    return [\n",
    "        dspy.Example(\n",
    "            text=row[\"text\"],\n",
    "            cancer_type=row['cancer_type_full']\n",
    "        ).with_inputs(\"text\")\n",
    "        for row in dataset\n",
    "    ]"
   ]
  },
  {
   "cell_type": "code",
   "execution_count": 51,
   "id": "f6e35098",
   "metadata": {},
   "outputs": [],
   "source": [
    "examples = prepare_dataset(df_dict)"
   ]
  },
  {
   "cell_type": "code",
   "execution_count": 54,
   "id": "84f751ac",
   "metadata": {},
   "outputs": [
    {
     "name": "stdout",
     "output_type": "stream",
     "text": [
      "Breast invasive carcinoma\n"
     ]
    },
    {
     "data": {
      "text/html": [
       "<pre style=\"white-space:pre;overflow-x:auto;line-height:normal;font-family:Menlo,'DejaVu Sans Mono',consolas,'Courier New',monospace\">FINAL DIAGNOSIS: PART <span style=\"color: #008080; text-decoration-color: #008080; font-weight: bold\">1</span>: RIGHT SENTINEL LYMPH NODE #<span style=\"color: #008080; text-decoration-color: #008080; font-weight: bold\">1</span>, BIOPSY -. ONE LYMPH NODE NEGATIVE FOR TUMOR <span style=\"font-weight: bold\">(</span><span style=\"color: #008080; text-decoration-color: #008080; font-weight: bold\">0</span>/<span style=\"color: #008080; text-decoration-color: #008080; font-weight: bold\">1</span><span style=\"font-weight: bold\">)</span>. PART <span style=\"color: #008080; text-decoration-color: #008080; font-weight: bold\">2</span>: \n",
       "RIGHT BREAST, SEGMENTAL MASTECTOMY -. A. INFILTRATING DUCT CARCINOMA, <span style=\"color: #008080; text-decoration-color: #008080; font-weight: bold\">1.5</span> X <span style=\"color: #008080; text-decoration-color: #008080; font-weight: bold\">1.4</span> X <span style=\"color: #008080; text-decoration-color: #008080; font-weight: bold\">1.4</span> CM. B. NOTTINGHAM SCORE <span style=\"color: #008080; text-decoration-color: #008080; font-weight: bold\">9</span>/<span style=\"color: #008080; text-decoration-color: #008080; font-weight: bold\">9</span> \n",
       "<span style=\"font-weight: bold\">(</span>TUBULES <span style=\"color: #008080; text-decoration-color: #008080; font-weight: bold\">3</span>, NUCLEAR <span style=\"color: #008080; text-decoration-color: #008080; font-weight: bold\">3</span>, MITOSES <span style=\"color: #008080; text-decoration-color: #008080; font-weight: bold\">3</span><span style=\"font-weight: bold\">)</span>. C. NO LYMPHOVASCULAR INVASION IDENTIFIED. D. DUCTAL CARCINOMA IN-SITU SOLID \n",
       "TYPE, NUCLEAR GRADE3, WITH COMEDO-TYPE NECROSIS. TISSUE. COMPRISING APPROXIMATELY <span style=\"color: #008080; text-decoration-color: #008080; font-weight: bold\">3</span>% OF INVASIVE TUMOR AND PRESENT \n",
       "IN THE SURROUNDING BREAST. E. SURGICAL MARGINS NEGATIVE FOR INFILTRATING DUCT CARCINOMA AND DUCTAL CARCINOMA IN-. \n",
       "SITU. F. G. INFILTRATING DUCT CARCINOMA FOCALLY VERY CLOSELY APPROACHES SUPERIOR MARGIN <span style=\"font-weight: bold\">(</span><span style=\"color: #008080; text-decoration-color: #008080; font-weight: bold\">0.03</span> CM<span style=\"font-weight: bold\">)</span>. UNREMARKABLE \n",
       "SKIN. H. TUMOR IS ESTROGEN RECEPTORS, PROGESTERONE RECEPTORS AND HER2/NEU NEGATIVE AS PER. CORE BIOPSY REPORT. I. \n",
       "THERMAL EFFECT. COMMENT: The tumor has pushing margins, is associated with prominent lymphocytic infiltrate and is \n",
       "cytokeratin <span style=\"color: #008080; text-decoration-color: #008080; font-weight: bold\">5</span> and <span style=\"color: #008080; text-decoration-color: #008080; font-weight: bold\">6</span>,. and Her2/neu negative. which supports the diffarentiation. cytokeratin <span style=\"color: #008080; text-decoration-color: #008080; font-weight: bold\">14</span>, cytokeratin <span style=\"color: #008080; text-decoration-color: #008080; font-weight: bold\">17</span>, \n",
       "epidermal growth factor and vimentin positive and estrogen and progesterone receptor. CASE SYNOPSIS: SYNOPTIC - \n",
       "PRIMARY INVASIVE CARCINOMA OF BREAST. LATERALITY: Right. PROCEDURE: Segmental. Not specified. SIZE OF TUMOR: \n",
       "Maximum dimension invasive component: <span style=\"color: #008080; text-decoration-color: #008080; font-weight: bold\">1.4</span> cm. MULTICENTRICITY/MULTIFOCALITY OF INVASIVE FOCI: TUMOR TYPE <span style=\"font-weight: bold\">(</span>invasive \n",
       "component<span style=\"font-weight: bold\">)</span>: Other <span style=\"color: #800080; text-decoration-color: #800080; font-weight: bold\">Type</span><span style=\"font-weight: bold\">(</span>s<span style=\"font-weight: bold\">)</span>: basal-like type. NOTTINGHAM SCORE: Nuclear grade: <span style=\"color: #008080; text-decoration-color: #008080; font-weight: bold\">3</span>. Tubule formation: <span style=\"color: #008080; text-decoration-color: #008080; font-weight: bold\">3</span>. Mitotic \n",
       "activity score: <span style=\"color: #008080; text-decoration-color: #008080; font-weight: bold\">3</span>. Total Nottingham score: <span style=\"color: #008080; text-decoration-color: #008080; font-weight: bold\">9</span>. Nottingham grade <span style=\"font-weight: bold\">(</span><span style=\"color: #008080; text-decoration-color: #008080; font-weight: bold\">1</span>, <span style=\"color: #008080; text-decoration-color: #008080; font-weight: bold\">2</span>, <span style=\"color: #008080; text-decoration-color: #008080; font-weight: bold\">3</span><span style=\"font-weight: bold\">)</span>: <span style=\"color: #008080; text-decoration-color: #008080; font-weight: bold\">3</span>. ANGIOLYMPHATIC INVASION: DERMAL \n",
       "LYMPHATIC INVASION: CALCIFICATION: TUMOR TYPE, IN SITU: Solid, Comedo. SURGICAL MARGINS INVOLVED BY INVASIVE \n",
       "COMPONENT: Distance of invasive tumor to closest margin: <span style=\"color: #008080; text-decoration-color: #008080; font-weight: bold\">0.3</span> mm. SURG MARGINS INVOLVED BY IN SITU COMPONENT: LYMPH \n",
       "NODES POSITIVE: <span style=\"color: #008080; text-decoration-color: #008080; font-weight: bold\">0</span>. LYMPH NODES EXAMINED: <span style=\"color: #008080; text-decoration-color: #008080; font-weight: bold\">1</span>. <span style=\"color: #800080; text-decoration-color: #800080; font-weight: bold\">METHOD</span><span style=\"font-weight: bold\">(</span>S<span style=\"font-weight: bold\">)</span> OF LYMPH NODE EXAMINATION: H/E stain, Keratin stain. SENTINEL\n",
       "NODE METASTASIS: SIZE OF NODAL METASTASES: Diameter of largest lymph node metastasis: <span style=\"color: #008080; text-decoration-color: #008080; font-weight: bold\">0</span> mm. LYMPH NODE \n",
       "<span style=\"color: #800080; text-decoration-color: #800080; font-weight: bold\">METASTASIS</span><span style=\"font-weight: bold\">(</span>-ES<span style=\"font-weight: bold\">)</span> WITH EXTRACAPSULAR EXTENSION: NON-NEOPLASTIC BREAST TISSUE: FCD. T STAGE, PATHOLOGIC: N STAGE, \n",
       "PATHOLOGIC: pNO. pMX. M STAGE, PATHOLOGIC: ESTROGEN RECEPTORS: negative. PROGESTERONE RECEPTORS: negative. \n",
       "HER2/NEU: zero or <span style=\"color: #008080; text-decoration-color: #008080; font-weight: bold\">1</span>+.\n",
       "</pre>\n"
      ],
      "text/plain": [
       "FINAL DIAGNOSIS: PART \u001b[1;36m1\u001b[0m: RIGHT SENTINEL LYMPH NODE #\u001b[1;36m1\u001b[0m, BIOPSY -. ONE LYMPH NODE NEGATIVE FOR TUMOR \u001b[1m(\u001b[0m\u001b[1;36m0\u001b[0m/\u001b[1;36m1\u001b[0m\u001b[1m)\u001b[0m. PART \u001b[1;36m2\u001b[0m: \n",
       "RIGHT BREAST, SEGMENTAL MASTECTOMY -. A. INFILTRATING DUCT CARCINOMA, \u001b[1;36m1.5\u001b[0m X \u001b[1;36m1.4\u001b[0m X \u001b[1;36m1.4\u001b[0m CM. B. NOTTINGHAM SCORE \u001b[1;36m9\u001b[0m/\u001b[1;36m9\u001b[0m \n",
       "\u001b[1m(\u001b[0mTUBULES \u001b[1;36m3\u001b[0m, NUCLEAR \u001b[1;36m3\u001b[0m, MITOSES \u001b[1;36m3\u001b[0m\u001b[1m)\u001b[0m. C. NO LYMPHOVASCULAR INVASION IDENTIFIED. D. DUCTAL CARCINOMA IN-SITU SOLID \n",
       "TYPE, NUCLEAR GRADE3, WITH COMEDO-TYPE NECROSIS. TISSUE. COMPRISING APPROXIMATELY \u001b[1;36m3\u001b[0m% OF INVASIVE TUMOR AND PRESENT \n",
       "IN THE SURROUNDING BREAST. E. SURGICAL MARGINS NEGATIVE FOR INFILTRATING DUCT CARCINOMA AND DUCTAL CARCINOMA IN-. \n",
       "SITU. F. G. INFILTRATING DUCT CARCINOMA FOCALLY VERY CLOSELY APPROACHES SUPERIOR MARGIN \u001b[1m(\u001b[0m\u001b[1;36m0.03\u001b[0m CM\u001b[1m)\u001b[0m. UNREMARKABLE \n",
       "SKIN. H. TUMOR IS ESTROGEN RECEPTORS, PROGESTERONE RECEPTORS AND HER2/NEU NEGATIVE AS PER. CORE BIOPSY REPORT. I. \n",
       "THERMAL EFFECT. COMMENT: The tumor has pushing margins, is associated with prominent lymphocytic infiltrate and is \n",
       "cytokeratin \u001b[1;36m5\u001b[0m and \u001b[1;36m6\u001b[0m,. and Her2/neu negative. which supports the diffarentiation. cytokeratin \u001b[1;36m14\u001b[0m, cytokeratin \u001b[1;36m17\u001b[0m, \n",
       "epidermal growth factor and vimentin positive and estrogen and progesterone receptor. CASE SYNOPSIS: SYNOPTIC - \n",
       "PRIMARY INVASIVE CARCINOMA OF BREAST. LATERALITY: Right. PROCEDURE: Segmental. Not specified. SIZE OF TUMOR: \n",
       "Maximum dimension invasive component: \u001b[1;36m1.4\u001b[0m cm. MULTICENTRICITY/MULTIFOCALITY OF INVASIVE FOCI: TUMOR TYPE \u001b[1m(\u001b[0minvasive \n",
       "component\u001b[1m)\u001b[0m: Other \u001b[1;35mType\u001b[0m\u001b[1m(\u001b[0ms\u001b[1m)\u001b[0m: basal-like type. NOTTINGHAM SCORE: Nuclear grade: \u001b[1;36m3\u001b[0m. Tubule formation: \u001b[1;36m3\u001b[0m. Mitotic \n",
       "activity score: \u001b[1;36m3\u001b[0m. Total Nottingham score: \u001b[1;36m9\u001b[0m. Nottingham grade \u001b[1m(\u001b[0m\u001b[1;36m1\u001b[0m, \u001b[1;36m2\u001b[0m, \u001b[1;36m3\u001b[0m\u001b[1m)\u001b[0m: \u001b[1;36m3\u001b[0m. ANGIOLYMPHATIC INVASION: DERMAL \n",
       "LYMPHATIC INVASION: CALCIFICATION: TUMOR TYPE, IN SITU: Solid, Comedo. SURGICAL MARGINS INVOLVED BY INVASIVE \n",
       "COMPONENT: Distance of invasive tumor to closest margin: \u001b[1;36m0.3\u001b[0m mm. SURG MARGINS INVOLVED BY IN SITU COMPONENT: LYMPH \n",
       "NODES POSITIVE: \u001b[1;36m0\u001b[0m. LYMPH NODES EXAMINED: \u001b[1;36m1\u001b[0m. \u001b[1;35mMETHOD\u001b[0m\u001b[1m(\u001b[0mS\u001b[1m)\u001b[0m OF LYMPH NODE EXAMINATION: H/E stain, Keratin stain. SENTINEL\n",
       "NODE METASTASIS: SIZE OF NODAL METASTASES: Diameter of largest lymph node metastasis: \u001b[1;36m0\u001b[0m mm. LYMPH NODE \n",
       "\u001b[1;35mMETASTASIS\u001b[0m\u001b[1m(\u001b[0m-ES\u001b[1m)\u001b[0m WITH EXTRACAPSULAR EXTENSION: NON-NEOPLASTIC BREAST TISSUE: FCD. T STAGE, PATHOLOGIC: N STAGE, \n",
       "PATHOLOGIC: pNO. pMX. M STAGE, PATHOLOGIC: ESTROGEN RECEPTORS: negative. PROGESTERONE RECEPTORS: negative. \n",
       "HER2/NEU: zero or \u001b[1;36m1\u001b[0m+.\n"
      ]
     },
     "metadata": {},
     "output_type": "display_data"
    }
   ],
   "source": [
    "example = examples[1000]\n",
    "print(example['cancer_type'])\n",
    "rich.print(example['text'])"
   ]
  },
  {
   "cell_type": "code",
   "execution_count": 56,
   "id": "07b23f92",
   "metadata": {},
   "outputs": [
    {
     "name": "stdout",
     "output_type": "stream",
     "text": [
      "Saved 9523 examples to tcga_examples.pkl\n",
      "Loaded 9523 examples from tcga_examples.pkl\n"
     ]
    }
   ],
   "source": [
    "# pickle the list of examples\n",
    "with open(\"tcga_examples.pkl\", \"wb\") as f:\n",
    "    pickle.dump(examples, f)\n",
    "print(f\"Saved {len(examples)} examples to tcga_examples.pkl\")\n",
    "# Load the examples back to verify\n",
    "with open(\"tcga_examples.pkl\", \"rb\") as f:\n",
    "    loaded_examples = pickle.load(f)\n",
    "print(f\"Loaded {len(loaded_examples)} examples from tcga_examples.pkl\")"
   ]
  }
 ],
 "metadata": {
  "kernelspec": {
   "display_name": "llm-env",
   "language": "python",
   "name": "python3"
  },
  "language_info": {
   "codemirror_mode": {
    "name": "ipython",
    "version": 3
   },
   "file_extension": ".py",
   "mimetype": "text/x-python",
   "name": "python",
   "nbconvert_exporter": "python",
   "pygments_lexer": "ipython3",
   "version": "3.13.3"
  }
 },
 "nbformat": 4,
 "nbformat_minor": 5
}
