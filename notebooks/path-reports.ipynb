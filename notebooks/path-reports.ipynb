{
 "cells": [
  {
   "cell_type": "code",
   "execution_count": 5,
   "id": "d5b308e0",
   "metadata": {},
   "outputs": [],
   "source": [
    "import os\n",
    "import sys\n",
    "import dspy\n",
    "import rich\n",
    "import polars as pl\n",
    "from pathlib import Path"
   ]
  },
  {
   "cell_type": "markdown",
   "id": "b4faa3d0",
   "metadata": {},
   "source": [
    "## Load the Full Pathology Report Dataset"
   ]
  },
  {
   "cell_type": "code",
   "execution_count": 7,
   "id": "467c3742",
   "metadata": {},
   "outputs": [
    {
     "data": {
      "text/html": [
       "<div><style>\n",
       ".dataframe > thead > tr,\n",
       ".dataframe > tbody > tr {\n",
       "  text-align: right;\n",
       "  white-space: pre-wrap;\n",
       "}\n",
       "</style>\n",
       "<small>shape: (10, 2)</small><table border=\"1\" class=\"dataframe\"><thead><tr><th>patient_filename</th><th>text</th></tr><tr><td>str</td><td>str</td></tr></thead><tbody><tr><td>&quot;TCGA-BP-5195.25c0b433-5557-416…</td><td>&quot;Date of Recelpt: Clinical Diag…</td></tr><tr><td>&quot;TCGA-D7-8573.b7306a47-697d-4ed…</td><td>&quot;Material: 1) Material: stomach…</td></tr><tr><td>&quot;TCGA-EI-7004.13591eed-30e5-47a…</td><td>&quot;page 1 / 1. copy No. 3. Examin…</td></tr><tr><td>&quot;TCGA-EB-A82B.23E186C6-739C-4EF…</td><td>&quot;Patient ID: Gross Description:…</td></tr><tr><td>&quot;TCGA-A6-3808.e1505f65-72ef-438…</td><td>&quot;SPECIMEN. Right colon. CLINICA…</td></tr><tr><td>&quot;TCGA-29-1761.63defa27-e729-451…</td><td>&quot;CLINICAL HISTORY: Pelvic organ…</td></tr><tr><td>&quot;TCGA-24-1616.d8c764d9-0fe8-488…</td><td>&quot;Address: : Physician (s) : Oth…</td></tr><tr><td>&quot;TCGA-IN-A6RO.C0E5F045-3F12-45C…</td><td>&quot;FINAL DIAGNOSIS: PART 1: ESOPH…</td></tr><tr><td>&quot;TCGA-44-8119.c40ea4c8-8cbe-4a4…</td><td>&quot;Final Surgical Pathology Repor…</td></tr><tr><td>&quot;TCGA-KK-A6E8.3716A52E-E0B7-4FE…</td><td>&quot;MODIFIED REPORT - REVIEW ADDEN…</td></tr></tbody></table></div>"
      ],
      "text/plain": [
       "shape: (10, 2)\n",
       "┌─────────────────────────────────┬─────────────────────────────────┐\n",
       "│ patient_filename                ┆ text                            │\n",
       "│ ---                             ┆ ---                             │\n",
       "│ str                             ┆ str                             │\n",
       "╞═════════════════════════════════╪═════════════════════════════════╡\n",
       "│ TCGA-BP-5195.25c0b433-5557-416… ┆ Date of Recelpt: Clinical Diag… │\n",
       "│ TCGA-D7-8573.b7306a47-697d-4ed… ┆ Material: 1) Material: stomach… │\n",
       "│ TCGA-EI-7004.13591eed-30e5-47a… ┆ page 1 / 1. copy No. 3. Examin… │\n",
       "│ TCGA-EB-A82B.23E186C6-739C-4EF… ┆ Patient ID: Gross Description:… │\n",
       "│ TCGA-A6-3808.e1505f65-72ef-438… ┆ SPECIMEN. Right colon. CLINICA… │\n",
       "│ TCGA-29-1761.63defa27-e729-451… ┆ CLINICAL HISTORY: Pelvic organ… │\n",
       "│ TCGA-24-1616.d8c764d9-0fe8-488… ┆ Address: : Physician (s) : Oth… │\n",
       "│ TCGA-IN-A6RO.C0E5F045-3F12-45C… ┆ FINAL DIAGNOSIS: PART 1: ESOPH… │\n",
       "│ TCGA-44-8119.c40ea4c8-8cbe-4a4… ┆ Final Surgical Pathology Repor… │\n",
       "│ TCGA-KK-A6E8.3716A52E-E0B7-4FE… ┆ MODIFIED REPORT - REVIEW ADDEN… │\n",
       "└─────────────────────────────────┴─────────────────────────────────┘"
      ]
     },
     "execution_count": 7,
     "metadata": {},
     "output_type": "execute_result"
    }
   ],
   "source": [
    "df_path_reports = pl.read_csv(\"../../data/tcga/TCGA_reports.csv\")\n",
    "assert len(df_path_reports) == 9523\n",
    "df_path_reports.head(10)"
   ]
  },
  {
   "cell_type": "code",
   "execution_count": 10,
   "id": "82dbe81b",
   "metadata": {},
   "outputs": [
    {
     "data": {
      "text/html": [
       "<pre style=\"white-space:pre;overflow-x:auto;line-height:normal;font-family:Menlo,'DejaVu Sans Mono',consolas,'Courier New',monospace\">Date of Recelpt: Clinical Diagnosis &amp; History: Incidental <span style=\"color: #008080; text-decoration-color: #008080; font-weight: bold\">3</span> cm left upper pole renal mass. Specimens Submitted: <span style=\"color: #008080; text-decoration-color: #008080; font-weight: bold\">1</span>: \n",
       "Kidney, Left Upper Pole; Partial Nephrectomy. DIAGNOSIS: <span style=\"color: #008080; text-decoration-color: #008080; font-weight: bold\">1</span>. Kidney, Left Upper Pole; Partial Nephrectomy: Tumor \n",
       "Type: Renal cell carcinoma - Conventional <span style=\"font-weight: bold\">(</span>clear cell<span style=\"font-weight: bold\">)</span> type. Fuhrman Nuclear Grade: Nuclear grade II/IV. Tumor \n",
       "Size: Greatest diameter is <span style=\"color: #008080; text-decoration-color: #008080; font-weight: bold\">2.4</span> cm. Local Invasion <span style=\"font-weight: bold\">(</span>for renal cortical types<span style=\"font-weight: bold\">)</span>: Not Identified. Renal Vein Invasion: \n",
       "Not identified. Surgical Margins: Free of tumor. Non-Neoplastic Kidney: shows focal chronic inflammation and focal \n",
       "superficial glomerulosclerosis. Adrenal Gland: Not identified. Lymph Nodes: Not identified. Staging for renal cell \n",
       "carcinoma/oncocytoma: pT1 Tumor &lt;= <span style=\"color: #008080; text-decoration-color: #008080; font-weight: bold\">7.0</span> cm in greatest dimension limited to the kidney. JATTEST THAT THE ABOVE \n",
       "DIAGNOSIS IS BASED UPON MY PERSONAL EXAMINATION OF THE SLIDES <span style=\"font-weight: bold\">(</span>AND/OR OTHER MATERIAL<span style=\"font-weight: bold\">)</span>, AND THAT IHAVE. REVIEWED AND\n",
       "APPROVED THIS REPORT. Gross Description: <span style=\"color: #008080; text-decoration-color: #008080; font-weight: bold\">1</span><span style=\"font-weight: bold\">)</span>. The specimen Is received fresh for frozen section consultation, \n",
       "labeled <span style=\"color: #008000; text-decoration-color: #008000\">\"left upper pole renal tumor stitch marks deep margin\"</span>. It consists of a <span style=\"color: #008080; text-decoration-color: #008080; font-weight: bold\">6.6</span> X <span style=\"color: #008080; text-decoration-color: #008080; font-weight: bold\">3.7</span> x <span style=\"color: #008080; text-decoration-color: #008080; font-weight: bold\">2.9</span> cm wedge shaped \n",
       "portion of kidney with a suture marking the deep margin and attached <span style=\"color: #008080; text-decoration-color: #008080; font-weight: bold\">12.2</span> x <span style=\"color: #008080; text-decoration-color: #008080; font-weight: bold\">8</span>,<span style=\"color: #008080; text-decoration-color: #008080; font-weight: bold\">5</span> x. <span style=\"color: #008080; text-decoration-color: #008080; font-weight: bold\">2.7</span> cm of perirenal. Also \n",
       "received in the same container Is a separate <span style=\"color: #008080; text-decoration-color: #008080; font-weight: bold\">11.6</span> x <span style=\"color: #008080; text-decoration-color: #008080; font-weight: bold\">8.4</span> x <span style=\"color: #008080; text-decoration-color: #008080; font-weight: bold\">4.6</span> cm aggregate of unremarkable. fibroadipose tissue. \n",
       "The margin is inked black and the specimen is serially sectioned to reveal a well-circumscribed cortically. based \n",
       "yellow focally hemorrhagic <span style=\"color: #008080; text-decoration-color: #008080; font-weight: bold\">2.4</span> x <span style=\"color: #008080; text-decoration-color: #008080; font-weight: bold\">2.0</span> x <span style=\"color: #008080; text-decoration-color: #008080; font-weight: bold\">1.9</span> cm tumor. The tumor appears grossly confined to the renal parenchyma, \n",
       "no. extension into perirenal fat is identified. The clearance from the resection margin is <span style=\"color: #008080; text-decoration-color: #008080; font-weight: bold\">1.1</span> cm. A representative\n",
       "section of the. nearest margin is submilted for frozen section diagnosis. Representatively submitted. A photograph \n",
       "Is taken. Portions of the. tumor are submitted for TPS. Summary of sections: FSC - frozen section control. T tumor.\n",
       "M margin. RS - representative sections. Summary of Sections: Part <span style=\"color: #008080; text-decoration-color: #008080; font-weight: bold\">1</span>: Kidney, Left Upper Pole; Partial Nephrectomy. \n",
       "Block. Sect. Site. PCs. <span style=\"color: #008080; text-decoration-color: #008080; font-weight: bold\">1</span>. fsc. <span style=\"color: #008080; text-decoration-color: #008080; font-weight: bold\">1</span>. <span style=\"color: #008080; text-decoration-color: #008080; font-weight: bold\">2</span>. m. <span style=\"color: #008080; text-decoration-color: #008080; font-weight: bold\">2</span>. <span style=\"color: #008080; text-decoration-color: #008080; font-weight: bold\">1</span>. rs. <span style=\"color: #008080; text-decoration-color: #008080; font-weight: bold\">1</span>. <span style=\"color: #008080; text-decoration-color: #008080; font-weight: bold\">2</span>. t. <span style=\"color: #008080; text-decoration-color: #008080; font-weight: bold\">2</span>. Intraoperative Consultation: Note: The diagnoses \n",
       "given in this section pertain only to the. tissue sample examined at the time of the intraoperative. consultation. \n",
       "<span style=\"color: #008080; text-decoration-color: #008080; font-weight: bold\">1</span><span style=\"font-weight: bold\">)</span>. FROZEN SECTION DIAGNOSIS: LEFT UPPER POLE RENAL TUMOR. RENAL CORTICAL NEOPLASM. WITH BENIGN MARGIN. PERMANENT \n",
       "DIAGNOSIS: SAME.\n",
       "</pre>\n"
      ],
      "text/plain": [
       "Date of Recelpt: Clinical Diagnosis & History: Incidental \u001b[1;36m3\u001b[0m cm left upper pole renal mass. Specimens Submitted: \u001b[1;36m1\u001b[0m: \n",
       "Kidney, Left Upper Pole; Partial Nephrectomy. DIAGNOSIS: \u001b[1;36m1\u001b[0m. Kidney, Left Upper Pole; Partial Nephrectomy: Tumor \n",
       "Type: Renal cell carcinoma - Conventional \u001b[1m(\u001b[0mclear cell\u001b[1m)\u001b[0m type. Fuhrman Nuclear Grade: Nuclear grade II/IV. Tumor \n",
       "Size: Greatest diameter is \u001b[1;36m2.4\u001b[0m cm. Local Invasion \u001b[1m(\u001b[0mfor renal cortical types\u001b[1m)\u001b[0m: Not Identified. Renal Vein Invasion: \n",
       "Not identified. Surgical Margins: Free of tumor. Non-Neoplastic Kidney: shows focal chronic inflammation and focal \n",
       "superficial glomerulosclerosis. Adrenal Gland: Not identified. Lymph Nodes: Not identified. Staging for renal cell \n",
       "carcinoma/oncocytoma: pT1 Tumor <= \u001b[1;36m7.0\u001b[0m cm in greatest dimension limited to the kidney. JATTEST THAT THE ABOVE \n",
       "DIAGNOSIS IS BASED UPON MY PERSONAL EXAMINATION OF THE SLIDES \u001b[1m(\u001b[0mAND/OR OTHER MATERIAL\u001b[1m)\u001b[0m, AND THAT IHAVE. REVIEWED AND\n",
       "APPROVED THIS REPORT. Gross Description: \u001b[1;36m1\u001b[0m\u001b[1m)\u001b[0m. The specimen Is received fresh for frozen section consultation, \n",
       "labeled \u001b[32m\"left upper pole renal tumor stitch marks deep margin\"\u001b[0m. It consists of a \u001b[1;36m6.6\u001b[0m X \u001b[1;36m3.7\u001b[0m x \u001b[1;36m2.9\u001b[0m cm wedge shaped \n",
       "portion of kidney with a suture marking the deep margin and attached \u001b[1;36m12.2\u001b[0m x \u001b[1;36m8\u001b[0m,\u001b[1;36m5\u001b[0m x. \u001b[1;36m2.7\u001b[0m cm of perirenal. Also \n",
       "received in the same container Is a separate \u001b[1;36m11.6\u001b[0m x \u001b[1;36m8.4\u001b[0m x \u001b[1;36m4.6\u001b[0m cm aggregate of unremarkable. fibroadipose tissue. \n",
       "The margin is inked black and the specimen is serially sectioned to reveal a well-circumscribed cortically. based \n",
       "yellow focally hemorrhagic \u001b[1;36m2.4\u001b[0m x \u001b[1;36m2.0\u001b[0m x \u001b[1;36m1.9\u001b[0m cm tumor. The tumor appears grossly confined to the renal parenchyma, \n",
       "no. extension into perirenal fat is identified. The clearance from the resection margin is \u001b[1;36m1.1\u001b[0m cm. A representative\n",
       "section of the. nearest margin is submilted for frozen section diagnosis. Representatively submitted. A photograph \n",
       "Is taken. Portions of the. tumor are submitted for TPS. Summary of sections: FSC - frozen section control. T tumor.\n",
       "M margin. RS - representative sections. Summary of Sections: Part \u001b[1;36m1\u001b[0m: Kidney, Left Upper Pole; Partial Nephrectomy. \n",
       "Block. Sect. Site. PCs. \u001b[1;36m1\u001b[0m. fsc. \u001b[1;36m1\u001b[0m. \u001b[1;36m2\u001b[0m. m. \u001b[1;36m2\u001b[0m. \u001b[1;36m1\u001b[0m. rs. \u001b[1;36m1\u001b[0m. \u001b[1;36m2\u001b[0m. t. \u001b[1;36m2\u001b[0m. Intraoperative Consultation: Note: The diagnoses \n",
       "given in this section pertain only to the. tissue sample examined at the time of the intraoperative. consultation. \n",
       "\u001b[1;36m1\u001b[0m\u001b[1m)\u001b[0m. FROZEN SECTION DIAGNOSIS: LEFT UPPER POLE RENAL TUMOR. RENAL CORTICAL NEOPLASM. WITH BENIGN MARGIN. PERMANENT \n",
       "DIAGNOSIS: SAME.\n"
      ]
     },
     "metadata": {},
     "output_type": "display_data"
    }
   ],
   "source": [
    "report = df_path_reports.select(\"text\").to_series().to_list()[0]\n",
    "rich.print(report)"
   ]
  },
  {
   "cell_type": "markdown",
   "id": "990e2065",
   "metadata": {},
   "source": [
    "## Load the Annotated Dataset"
   ]
  },
  {
   "cell_type": "code",
   "execution_count": 11,
   "id": "59496ba7",
   "metadata": {},
   "outputs": [
    {
     "data": {
      "text/html": [
       "<div><style>\n",
       ".dataframe > thead > tr,\n",
       ".dataframe > tbody > tr {\n",
       "  text-align: right;\n",
       "  white-space: pre-wrap;\n",
       "}\n",
       "</style>\n",
       "<small>shape: (10, 2)</small><table border=\"1\" class=\"dataframe\"><thead><tr><th>patient_id</th><th>cancer_type</th></tr><tr><td>str</td><td>str</td></tr></thead><tbody><tr><td>&quot;TCGA-OR-A5J1&quot;</td><td>&quot;ACC&quot;</td></tr><tr><td>&quot;TCGA-OR-A5J2&quot;</td><td>&quot;ACC&quot;</td></tr><tr><td>&quot;TCGA-OR-A5J3&quot;</td><td>&quot;ACC&quot;</td></tr><tr><td>&quot;TCGA-OR-A5J4&quot;</td><td>&quot;ACC&quot;</td></tr><tr><td>&quot;TCGA-OR-A5J5&quot;</td><td>&quot;ACC&quot;</td></tr><tr><td>&quot;TCGA-OR-A5J6&quot;</td><td>&quot;ACC&quot;</td></tr><tr><td>&quot;TCGA-OR-A5J7&quot;</td><td>&quot;ACC&quot;</td></tr><tr><td>&quot;TCGA-OR-A5J8&quot;</td><td>&quot;ACC&quot;</td></tr><tr><td>&quot;TCGA-OR-A5J9&quot;</td><td>&quot;ACC&quot;</td></tr><tr><td>&quot;TCGA-OR-A5JA&quot;</td><td>&quot;ACC&quot;</td></tr></tbody></table></div>"
      ],
      "text/plain": [
       "shape: (10, 2)\n",
       "┌──────────────┬─────────────┐\n",
       "│ patient_id   ┆ cancer_type │\n",
       "│ ---          ┆ ---         │\n",
       "│ str          ┆ str         │\n",
       "╞══════════════╪═════════════╡\n",
       "│ TCGA-OR-A5J1 ┆ ACC         │\n",
       "│ TCGA-OR-A5J2 ┆ ACC         │\n",
       "│ TCGA-OR-A5J3 ┆ ACC         │\n",
       "│ TCGA-OR-A5J4 ┆ ACC         │\n",
       "│ TCGA-OR-A5J5 ┆ ACC         │\n",
       "│ TCGA-OR-A5J6 ┆ ACC         │\n",
       "│ TCGA-OR-A5J7 ┆ ACC         │\n",
       "│ TCGA-OR-A5J8 ┆ ACC         │\n",
       "│ TCGA-OR-A5J9 ┆ ACC         │\n",
       "│ TCGA-OR-A5JA ┆ ACC         │\n",
       "└──────────────┴─────────────┘"
      ]
     },
     "execution_count": 11,
     "metadata": {},
     "output_type": "execute_result"
    }
   ],
   "source": [
    "df_annotated = pl.read_csv(\n",
    "    \"../../tcga-path-reports/data/tcga_metadata/tcga_patient_to_cancer_type.csv\"\n",
    ")\n",
    "df_annotated.head(10)"
   ]
  },
  {
   "cell_type": "code",
   "execution_count": 12,
   "id": "8a12de40",
   "metadata": {},
   "outputs": [
    {
     "name": "stdout",
     "output_type": "stream",
     "text": [
      "ACC\n"
     ]
    },
    {
     "data": {
      "text/html": [
       "<pre style=\"white-space:pre;overflow-x:auto;line-height:normal;font-family:Menlo,'DejaVu Sans Mono',consolas,'Courier New',monospace\">Deliver To: NOS P. Cuncertain inknown behavior <span style=\"color: #008080; text-decoration-color: #008080; font-weight: bold\">8370</span>/<span style=\"color: #008080; text-decoration-color: #008080; font-weight: bold\">1</span> A. SPECIMEN TYPE: Adrenal. Blopsy No: T. CLINICAL NOTES: H. \n",
       "Histopathology of L<span style=\"font-weight: bold\">)</span> adrenal gland. Conn's syndrome <span style=\"font-weight: bold\">(</span>note small section of. O. tumour excised for genetic studies<span style=\"font-weight: bold\">)</span>.\n",
       "L. MACROSCOPIC: o. <span style=\"color: #008000; text-decoration-color: #008000\">\"Left adrenal. The specimen consists of an adrenal gland with a post fixation. weight 102.4g. It</span>\n",
       "<span style=\"color: #008000; text-decoration-color: #008000\">measures 110 x 70 x 60mm. A section of tissue has been. G. taken from one pole. On sectioning, a nodular lesion </span>\n",
       "<span style=\"color: #008000; text-decoration-color: #008000\">with a maximum diameter. Y. of 25 x 30mm, and extending for a length of 70mm, can be identified. The cut. surface </span>\n",
       "<span style=\"color: #008000; text-decoration-color: #008000\">of this lesion is irregular. it can be seen to be compressing the. adjacent normal adrenal tissue. Block 1: tissue </span>\n",
       "<span style=\"color: #008000; text-decoration-color: #008000\">near the excision where previous sampling for genetic studies. has already been performed. Blocks 2 and 3: lesion </span>\n",
       "<span style=\"color: #008000; text-decoration-color: #008000\">where it abuts the normal adrenal gland. Block 4: lesion with its closest proximity to the excision margin. Blocks </span>\n",
       "<span style=\"color: #008000; text-decoration-color: #008000\">5-9: further blocks of lesion. MICROSCOPIC: Sections show an adrenal tumour with a predominantly trabecular </span>\n",
       "<span style=\"color: #008000; text-decoration-color: #008000\">architectural. A. pattern and demonstrating a mitotic rate of &lt;6 per 50HPF. Cytological atypia is. N. present. No </span>\n",
       "<span style=\"color: #008000; text-decoration-color: #008000\">absolutely definite vascular invasion is seen. The tumour appears. close but clear of the painted excision margin. </span>\n",
       "<span style=\"color: #008000; text-decoration-color: #008000\">A. The morphological appearances of this adrenal tumour in association with the. T. results of immunoperoxidase </span>\n",
       "<span style=\"color: #008000; text-decoration-color: #008000\">stains (ie. positive for vimentin and negative for. Cam 5.2 and chromogranin) are consistent with a cortical </span>\n",
       "<span style=\"color: #008000; text-decoration-color: #008000\">adrenal tumour, which. o. is considered best regarded as an \"</span>adrenal cortical neoplasm of indeterminate. M. \n",
       "malignant potential\", and continuing long-term clinical follow-up Is strongly. recommended. I. SUMMARY: Considered \n",
       "best regarded as an <span style=\"color: #008000; text-decoration-color: #008000\">\"adrenal cortical tumour of. C. indeterminate malignant potential\"</span>. A. Note: Please see \n",
       "attached references from Tumours of the Adrenal Gland and. L. Extra-Adrenal Paraganglioma by Ernest E.Lack: No <span style=\"color: #008080; text-decoration-color: #008080; font-weight: bold\">19</span> -\n",
       "3rd series; from the. Armed Forces institute of Pathology, Washington D.C. P. T-<span style=\"color: #008080; text-decoration-color: #008080; font-weight: bold\">93000</span> M-<span style=\"color: #008080; text-decoration-color: #008080; font-weight: bold\">09350</span>. A. ADDITIONAL \n",
       "REPORT: T. ELECTRON MICROSCOPY: <span style=\"font-weight: bold\">(</span>received from. H. O. L. Page <span style=\"color: #008080; text-decoration-color: #008080; font-weight: bold\">1</span> of. O. Requesting Doctor's Information: Deliver To:\n",
       "A. SPECIMEN TYPE: Adrenal. Biopsy No: T. H. <span style=\"color: #008000; text-decoration-color: #008000\">\"The majority of cells examined by electron microscopy show the </span>\n",
       "<span style=\"color: #008000; text-decoration-color: #008000\">features of. aldosterone-secreting tumours. In particular, mitochondria elongated with. o. numerous lamellar </span>\n",
       "<span style=\"color: #008000; text-decoration-color: #008000\">cristae (\"</span>sarcotubular\" mitochondria<span style=\"font-weight: bold\">)</span>, similar to those of. L. the normal zona glomerulosa. However, spherical \n",
       "<span style=\"color: #008000; text-decoration-color: #008000\">\"hybrid\"</span> mitochondria with. lamellar or tubular cristae are also seen. Rough and smooth surfaced. o. endoplasmic \n",
       "reticulum are present in moderate amounts. Lipid droplets are. G. sparse. A few pleomorphic nuclei were seen, but \n",
       "the majority appear spherical. with a regular chromatin pattern and a small nucleolus. Y. Most authorities agree \n",
       "that it is not possible to predict the likely behaviour. of adrenal cortical tumours from their ultrastructural \n",
       "appearances. Reliance. should be placed on the usual histological and macroscopic criteria.\". REPORTING \n",
       "PATHOLOGIST: A. <span style=\"font-weight: bold\">(</span>Electronic Signature<span style=\"font-weight: bold\">)</span>. N. A. T. o. M. I. C. A. L. P. A. T. H. O. L. O.\n",
       "</pre>\n"
      ],
      "text/plain": [
       "Deliver To: NOS P. Cuncertain inknown behavior \u001b[1;36m8370\u001b[0m/\u001b[1;36m1\u001b[0m A. SPECIMEN TYPE: Adrenal. Blopsy No: T. CLINICAL NOTES: H. \n",
       "Histopathology of L\u001b[1m)\u001b[0m adrenal gland. Conn's syndrome \u001b[1m(\u001b[0mnote small section of. O. tumour excised for genetic studies\u001b[1m)\u001b[0m.\n",
       "L. MACROSCOPIC: o. \u001b[32m\"Left adrenal. The specimen consists of an adrenal gland with a post fixation. weight 102.4g. It\u001b[0m\n",
       "\u001b[32mmeasures 110 x 70 x 60mm. A section of tissue has been. G. taken from one pole. On sectioning, a nodular lesion \u001b[0m\n",
       "\u001b[32mwith a maximum diameter. Y. of 25 x 30mm, and extending for a length of 70mm, can be identified. The cut. surface \u001b[0m\n",
       "\u001b[32mof this lesion is irregular. it can be seen to be compressing the. adjacent normal adrenal tissue. Block 1: tissue \u001b[0m\n",
       "\u001b[32mnear the excision where previous sampling for genetic studies. has already been performed. Blocks 2 and 3: lesion \u001b[0m\n",
       "\u001b[32mwhere it abuts the normal adrenal gland. Block 4: lesion with its closest proximity to the excision margin. Blocks \u001b[0m\n",
       "\u001b[32m5-9: further blocks of lesion. MICROSCOPIC: Sections show an adrenal tumour with a predominantly trabecular \u001b[0m\n",
       "\u001b[32marchitectural. A. pattern and demonstrating a mitotic rate of <6 per 50HPF. Cytological atypia is. N. present. No \u001b[0m\n",
       "\u001b[32mabsolutely definite vascular invasion is seen. The tumour appears. close but clear of the painted excision margin. \u001b[0m\n",
       "\u001b[32mA. The morphological appearances of this adrenal tumour in association with the. T. results of immunoperoxidase \u001b[0m\n",
       "\u001b[32mstains \u001b[0m\u001b[32m(\u001b[0m\u001b[32mie. positive for vimentin and negative for. Cam 5.2 and chromogranin\u001b[0m\u001b[32m)\u001b[0m\u001b[32m are consistent with a cortical \u001b[0m\n",
       "\u001b[32madrenal tumour, which. o. is considered best regarded as an \"\u001b[0madrenal cortical neoplasm of indeterminate. M. \n",
       "malignant potential\", and continuing long-term clinical follow-up Is strongly. recommended. I. SUMMARY: Considered \n",
       "best regarded as an \u001b[32m\"adrenal cortical tumour of. C. indeterminate malignant potential\"\u001b[0m. A. Note: Please see \n",
       "attached references from Tumours of the Adrenal Gland and. L. Extra-Adrenal Paraganglioma by Ernest E.Lack: No \u001b[1;36m19\u001b[0m -\n",
       "3rd series; from the. Armed Forces institute of Pathology, Washington D.C. P. T-\u001b[1;36m93000\u001b[0m M-\u001b[1;36m09350\u001b[0m. A. ADDITIONAL \n",
       "REPORT: T. ELECTRON MICROSCOPY: \u001b[1m(\u001b[0mreceived from. H. O. L. Page \u001b[1;36m1\u001b[0m of. O. Requesting Doctor's Information: Deliver To:\n",
       "A. SPECIMEN TYPE: Adrenal. Biopsy No: T. H. \u001b[32m\"The majority of cells examined by electron microscopy show the \u001b[0m\n",
       "\u001b[32mfeatures of. aldosterone-secreting tumours. In particular, mitochondria elongated with. o. numerous lamellar \u001b[0m\n",
       "\u001b[32mcristae \u001b[0m\u001b[32m(\u001b[0m\u001b[32m\"\u001b[0msarcotubular\" mitochondria\u001b[1m)\u001b[0m, similar to those of. L. the normal zona glomerulosa. However, spherical \n",
       "\u001b[32m\"hybrid\"\u001b[0m mitochondria with. lamellar or tubular cristae are also seen. Rough and smooth surfaced. o. endoplasmic \n",
       "reticulum are present in moderate amounts. Lipid droplets are. G. sparse. A few pleomorphic nuclei were seen, but \n",
       "the majority appear spherical. with a regular chromatin pattern and a small nucleolus. Y. Most authorities agree \n",
       "that it is not possible to predict the likely behaviour. of adrenal cortical tumours from their ultrastructural \n",
       "appearances. Reliance. should be placed on the usual histological and macroscopic criteria.\". REPORTING \n",
       "PATHOLOGIST: A. \u001b[1m(\u001b[0mElectronic Signature\u001b[1m)\u001b[0m. N. A. T. o. M. I. C. A. L. P. A. T. H. O. L. O.\n"
      ]
     },
     "metadata": {},
     "output_type": "display_data"
    }
   ],
   "source": [
    "path_text = df_path_reports.filter(\n",
    "    pl.col(\"patient_filename\").str.contains(\"TCGA-OR-A5J1\")\n",
    ")[\"text\"][0]\n",
    "cancer_type = df_annotated.filter(pl.col(\"patient_id\") == \"TCGA-OR-A5J1\")[\n",
    "    \"cancer_type\"\n",
    "][0]\n",
    "print(cancer_type)\n",
    "rich.print(path_text)"
   ]
  },
  {
   "cell_type": "markdown",
   "id": "0f96733c",
   "metadata": {},
   "source": [
    "## DSPy it"
   ]
  },
  {
   "cell_type": "code",
   "execution_count": 13,
   "id": "4d227930",
   "metadata": {},
   "outputs": [],
   "source": [
    "lm = dspy.LM(\"openai/gpt-4o-mini\", api_key=os.environ[\"OPENAI_API_KEY\"])\n",
    "dspy.configure(lm=lm)"
   ]
  },
  {
   "cell_type": "code",
   "execution_count": 14,
   "id": "cea75662",
   "metadata": {},
   "outputs": [
    {
     "name": "stdout",
     "output_type": "stream",
     "text": [
      "adrenal cortical neoplasm of indeterminate malignant potential\n"
     ]
    }
   ],
   "source": [
    "class ExtractInfo(dspy.Signature):\n",
    "    \"\"\"Extract structured information from text.\"\"\"\n",
    "\n",
    "    text: str = dspy.InputField()\n",
    "    cancer_type: str = dspy.OutputField(\n",
    "        desc=\"the type of primary cancer diagnosis in the pathology report text\"\n",
    "    )\n",
    "\n",
    "\n",
    "module = dspy.Predict(ExtractInfo)\n",
    "response = module(text=path_text)\n",
    "\n",
    "print(response.cancer_type)"
   ]
  }
 ],
 "metadata": {
  "kernelspec": {
   "display_name": "Python 3",
   "language": "python",
   "name": "python3"
  },
  "language_info": {
   "codemirror_mode": {
    "name": "ipython",
    "version": 3
   },
   "file_extension": ".py",
   "mimetype": "text/x-python",
   "name": "python",
   "nbconvert_exporter": "python",
   "pygments_lexer": "ipython3",
   "version": "3.13.3"
  }
 },
 "nbformat": 4,
 "nbformat_minor": 5
}
